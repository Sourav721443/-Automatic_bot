{
 "cells": [
  {
   "cell_type": "code",
   "execution_count": null,
   "id": "6dc0874c",
   "metadata": {},
   "outputs": [],
   "source": [
    "!git clone https://github.com/Sourav721443/-Automatic_bot.git auto_meme_bot"
   ]
  },
  {
   "cell_type": "code",
   "execution_count": null,
   "id": "51db77cc",
   "metadata": {},
   "outputs": [],
   "source": [
    "%cd auto_meme_bot"
   ]
  },
  {
   "cell_type": "code",
   "execution_count": null,
   "id": "34d2335f",
   "metadata": {},
   "outputs": [],
   "source": [
    "!pip install -r requirements.txt"
   ]
  },
  {
   "cell_type": "code",
   "execution_count": null,
   "id": "2bf58881",
   "metadata": {},
   "outputs": [],
   "source": [
    "!python main.py"
   ]
  }
 ],
 "metadata": {},
 "nbformat": 4,
 "nbformat_minor": 5
}
