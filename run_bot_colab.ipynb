!git clone https://github.com/Sourav721443/-Automatic_bot.git auto_meme_bot
%cd auto_meme_bot
!pip install -r requirements.txt
!python main.py
